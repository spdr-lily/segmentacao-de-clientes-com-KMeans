{
  "nbformat": 4,
  "nbformat_minor": 0,
  "metadata": {
    "colab": {
      "provenance": [],
      "include_colab_link": true
    },
    "kernelspec": {
      "name": "python3",
      "display_name": "Python 3"
    },
    "language_info": {
      "name": "python"
    }
  },
  "cells": [
    {
      "cell_type": "markdown",
      "metadata": {
        "id": "view-in-github",
        "colab_type": "text"
      },
      "source": [
        "<a href=\"https://colab.research.google.com/github/spdr-lily/Data-Science-Profile/blob/main/segmentacao_de_clientes.ipynb\" target=\"_parent\"><img src=\"https://colab.research.google.com/assets/colab-badge.svg\" alt=\"Open In Colab\"/></a>"
      ]
    },
    {
      "cell_type": "markdown",
      "source": [
        "# Segmentação de Clientes com K-Means\n",
        "Aplicação prática de segmentação de clientes utilizando algoritmos de aprendizado de máquina, especificamente o K-Means. Utilizando dados fictícios de clientes, oa dados foram normalizados para garantir coerência e eficiência no processamento pelo algoritmo.\n"
      ],
      "metadata": {
        "id": "Vgv7FSrO9SE8"
      }
    },
    {
      "cell_type": "code",
      "source": [
        "import pandas as pd\n",
        "from sklearn.cluster import KMeans\n",
        "from sklearn.preprocessing import StandardScaler\n",
        "import matplotlib.pyplot as plt"
      ],
      "metadata": {
        "id": "Rj16SCB4g0Jc"
      },
      "execution_count": 2,
      "outputs": []
    },
    {
      "cell_type": "code",
      "source": [
        "# Criando dados fictícios de clientes\n",
        "dados_clientes = {\n",
        "    'Idade': [25, 30, 35, 22, 28, 32, 45, 50, 48, 60],\n",
        "    'Renda Anual (milhares)': [50, 60, 75, 40, 45, 55, 80, 90, 95, 120],\n",
        "    'Pontuação de Gastos (1-100)': [75, 80, 85, 10, 20, 5, 90, 95, 100, 60]\n",
        "}\n",
        "\n",
        "df_clientes = pd.DataFrame(dados_clientes)"
      ],
      "metadata": {
        "id": "LRexjrM87kLa"
      },
      "execution_count": 3,
      "outputs": []
    },
    {
      "cell_type": "code",
      "source": [
        "# Normalizando os dados\n",
        "scaler = StandardScaler()\n",
        "dados_normalizados = scaler.fit_transform(df_clientes)"
      ],
      "metadata": {
        "id": "rlF6Eskp8-Gz"
      },
      "execution_count": 4,
      "outputs": []
    },
    {
      "cell_type": "markdown",
      "source": [
        "Construção do algoritmo utilizando o K-Means, presente na biblioteca SKLearn. Definindo três clusters principais, onde os clientes serão divididos com base em suas semelhanças e padrões de comportamento. Foi utilizado o parâmetro random_state para garantir a reprodutibilidade dos resultados."
      ],
      "metadata": {
        "id": "_q7q5kDK9pjm"
      }
    },
    {
      "cell_type": "code",
      "source": [
        "# Aplicando o algoritmo K-Means para segmentação em 3 grupos\n",
        "kmeans = KMeans(n_clusters=3, random_state=42)\n",
        "df_clientes['Segmento'] = kmeans.fit_predict(dados_normalizados)"
      ],
      "metadata": {
        "id": "Z5vr3MW49AK9"
      },
      "execution_count": 5,
      "outputs": []
    },
    {
      "cell_type": "markdown",
      "source": [
        "Os dados dos clientes foram inseridos em um DataFrame, e uma nova coluna foi criada para indicar o segmento de cada cliente, identificando-os como pertencentes ao grupo 0, 1 ou 2. Aplicamos o algoritmo K-Means para agrupar os clientes com base nas características normalizadas."
      ],
      "metadata": {
        "id": "lZ3RSONU95F6"
      }
    },
    {
      "cell_type": "markdown",
      "source": [
        "Após a aplicação do algoritmo, é gerado um gráfico utilizando o Matplotlib para visualizar os resultados. É plotada a idade e a pontuação de gastos dos clientes, segmentados pelos grupos definidos. Essa visualização facilita a análise dos padrões de comportamento dos diferentes segmentos de clientes."
      ],
      "metadata": {
        "id": "j5Ztji6J-G30"
      }
    },
    {
      "cell_type": "code",
      "source": [
        "# Visualizando os grupos\n",
        "plt.scatter(df_clientes['Idade'], df_clientes['Pontuação de Gastos (1-100)'], c=df_clientes['Segmento'], cmap='viridis')\n",
        "plt.xlabel('Idade')\n",
        "plt.ylabel('Pontuação de Gastos (1-100)')\n",
        "plt.title('Segmentação de Clientes')\n",
        "plt.show()"
      ],
      "metadata": {
        "colab": {
          "base_uri": "https://localhost:8080/",
          "height": 472
        },
        "id": "2T1amgm69BZo",
        "outputId": "6220a320-699b-4beb-8d7d-d3cc15880e2c"
      },
      "execution_count": 6,
      "outputs": [
        {
          "output_type": "display_data",
          "data": {
            "text/plain": [
              "<Figure size 640x480 with 1 Axes>"
            ],
            "image/png": "[encoded data removed]"
          },
          "metadata": {}
        }
      ]
    },
    {
      "cell_type": "markdown",
      "source": [
        "O gráfico exibe a idade no eixo X e a pontuação de gastos no eixo Y. O título do gráfico é “Segmentação de Clientes”, e ele apresenta os três clusters formados. Cada cluster mostra clientes com características semelhantes, agrupados de forma que facilita a identificação de padrões."
      ],
      "metadata": {
        "id": "6vDSFTMn-a4V"
      }
    },
    {
      "cell_type": "code",
      "source": [
        "# Exibindo os centroides dos clusters\n",
        "centroides = scaler.inverse_transform(kmeans.cluster_centers_)\n",
        "df_centroides = pd.DataFrame(centroides, columns=df_clientes.columns[:-1])\n",
        "print('\\nCentroides dos Clusters:')\n",
        "print(df_centroides)"
      ],
      "metadata": {
        "colab": {
          "base_uri": "https://localhost:8080/"
        },
        "id": "5f8w3WMh9Cb3",
        "outputId": "a8ae5510-eb4f-4b05-cde9-461bcc74954f"
      },
      "execution_count": 7,
      "outputs": [
        {
          "output_type": "stream",
          "name": "stdout",
          "text": [
            "\n",
            "Centroides dos Clusters:\n",
            "       Idade  Renda Anual (milhares)  Pontuação de Gastos (1-100)\n",
            "0  27.333333               46.666667                    11.666667\n",
            "1  50.750000               96.250000                    86.250000\n",
            "2  30.000000               61.666667                    80.000000\n"
          ]
        }
      ]
    },
    {
      "cell_type": "markdown",
      "source": [
        "Para uma análise mais detalhada, é exibido os centroides dos clusters. Cada centroide representa a média das características dos clientes em cada grupo. Por exemplo, um grupo pode ter clientes com idade entre 25 e 40 anos, com uma pontuação de gastos alta. Outro grupo pode ter clientes mais jovens, com uma pontuação de gastos menor.\n",
        "Os centroides são calculados utilizando o StandardScaler, que normaliza os dados para melhor desempenho do algoritmo. É exibido os centroides dos clusters, mostrando a média de idade, renda anual e pontuação de gastos de cada grupo.\n",
        "Com isso, é possível identificar claramente os diferentes tipos de consumidores, suas características e comportamentos. Essa análise permite criar estratégias de marketing e atendimento mais eficientes, personalizadas para cada segmento de clientes.\n"
      ],
      "metadata": {
        "id": "Pe0dOVAq-W4v"
      }
    }
  ]
}